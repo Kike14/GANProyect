{
 "cells": [
  {
   "cell_type": "code",
   "execution_count": 3,
   "id": "610b7f8a",
   "metadata": {},
   "outputs": [],
   "source": [
    "import tensorflow as tf\n",
    "import matplotlib.pyplot as plt\n",
    "import pandas as pd\n",
    "import yfinance as yf"
   ]
  },
  {
   "cell_type": "code",
   "execution_count": 11,
   "id": "7c5ab500",
   "metadata": {},
   "outputs": [],
   "source": [
    "ticker_symbol = 'MANU'\n",
    "ticker = yf.Ticker(ticker_symbol)\n",
    "start_date = '2014-10-29'\n",
    "end_date = '2024-10-30'\n",
    "historical_data = ticker.history(start=start_date, end=end_date)\n"
   ]
  }
 ],
 "metadata": {
  "kernelspec": {
   "display_name": "Python 3 (ipykernel)",
   "language": "python",
   "name": "python3"
  },
  "language_info": {
   "codemirror_mode": {
    "name": "ipython",
    "version": 3
   },
   "file_extension": ".py",
   "mimetype": "text/x-python",
   "name": "python",
   "nbconvert_exporter": "python",
   "pygments_lexer": "ipython3",
   "version": "3.11.5"
  }
 },
 "nbformat": 4,
 "nbformat_minor": 5
}
